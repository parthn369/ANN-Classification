{
  "nbformat": 4,
  "nbformat_minor": 0,
  "metadata": {
    "colab": {
      "name": "MNIST Hand Written Digit Classification.ipynb",
      "provenance": [],
      "authorship_tag": "ABX9TyMmPcrdh3ZDEjhLbNBvnNFe",
      "include_colab_link": true
    },
    "kernelspec": {
      "name": "python3",
      "display_name": "Python 3"
    }
  },
  "cells": [
    {
      "cell_type": "markdown",
      "metadata": {
        "id": "view-in-github",
        "colab_type": "text"
      },
      "source": [
        "<a href=\"https://colab.research.google.com/github/parthn369/DeepLearning-ANN/blob/main/MNIST_Hand_Written_Digit_Classification(ANN).ipynb\" target=\"_parent\"><img src=\"https://colab.research.google.com/assets/colab-badge.svg\" alt=\"Open In Colab\"/></a>"
      ]
    },
    {
      "cell_type": "code",
      "metadata": {
        "id": "DIWW04QT15mU"
      },
      "source": [
        "import tensorflow.keras as tf\n",
        "import matplotlib.pyplot as plt"
      ],
      "execution_count": null,
      "outputs": []
    },
    {
      "cell_type": "code",
      "metadata": {
        "id": "8c_wiNuf2PoX",
        "outputId": "89720d38-1f20-40fc-fecb-adcc46ea62fb",
        "colab": {
          "base_uri": "https://localhost:8080/"
        }
      },
      "source": [
        "mnist = tf.datasets.mnist\n",
        "(xtrain,ytrain),(xtest,ytest) = mnist.load_data()"
      ],
      "execution_count": null,
      "outputs": [
        {
          "output_type": "stream",
          "text": [
            "Downloading data from https://storage.googleapis.com/tensorflow/tf-keras-datasets/mnist.npz\n",
            "11493376/11490434 [==============================] - 0s 0us/step\n"
          ],
          "name": "stdout"
        }
      ]
    },
    {
      "cell_type": "code",
      "metadata": {
        "id": "gcddE77x3AQl",
        "outputId": "b677ca43-c56e-4a02-c4a9-45223e54c45b",
        "colab": {
          "base_uri": "https://localhost:8080/"
        }
      },
      "source": [
        "xtrain.shape"
      ],
      "execution_count": null,
      "outputs": [
        {
          "output_type": "execute_result",
          "data": {
            "text/plain": [
              "(60000, 28, 28)"
            ]
          },
          "metadata": {
            "tags": []
          },
          "execution_count": 4
        }
      ]
    },
    {
      "cell_type": "code",
      "metadata": {
        "id": "eHkf6r8p3Esr",
        "outputId": "d3a6552a-1811-4f8d-ce28-9f40721b63de",
        "colab": {
          "base_uri": "https://localhost:8080/"
        }
      },
      "source": [
        "ytrain.shape"
      ],
      "execution_count": null,
      "outputs": [
        {
          "output_type": "execute_result",
          "data": {
            "text/plain": [
              "(60000,)"
            ]
          },
          "metadata": {
            "tags": []
          },
          "execution_count": 5
        }
      ]
    },
    {
      "cell_type": "code",
      "metadata": {
        "id": "TWYPWtfF3JEL",
        "outputId": "40d2a1b0-14b5-4d54-8a98-fc2aeafb95d5",
        "colab": {
          "base_uri": "https://localhost:8080/",
          "height": 265
        }
      },
      "source": [
        "plt.imshow(xtrain[59999],cmap=\"gray\")\n",
        "plt.show()"
      ],
      "execution_count": null,
      "outputs": [
        {
          "output_type": "display_data",
          "data": {
            "image/png": "[encoded data removed]",
            "text/plain": [
              "<Figure size 432x288 with 1 Axes>"
            ]
          },
          "metadata": {
            "tags": [],
            "needs_background": "light"
          }
        }
      ]
    },
    {
      "cell_type": "code",
      "metadata": {
        "id": "PImJFKjZ3S2V",
        "outputId": "c03edfd4-f6b6-489a-fbde-25bc481debbc",
        "colab": {
          "base_uri": "https://localhost:8080/"
        }
      },
      "source": [
        "ytrain[59999]"
      ],
      "execution_count": null,
      "outputs": [
        {
          "output_type": "execute_result",
          "data": {
            "text/plain": [
              "8"
            ]
          },
          "metadata": {
            "tags": []
          },
          "execution_count": 7
        }
      ]
    },
    {
      "cell_type": "code",
      "metadata": {
        "id": "UdVFLPT33WzT"
      },
      "source": [
        "### Create a neural network(Blank model)\n",
        "model = tf.models.Sequential() #Blank empty model\n",
        "model.add(tf.layers.Flatten()) #input layer\n",
        "model.add(tf.layers.Dense(784,activation=\"relu\")) #hidden layer\n",
        "model.add(tf.layers.Dense(10,activation=\"softmax\")) ##output layer\n",
        "model.compile(optimizer=\"adam\", loss=\"sparse_categorical_crossentropy\", metrics = [\"accuracy\"])\n"
      ],
      "execution_count": null,
      "outputs": []
    },
    {
      "cell_type": "code",
      "metadata": {
        "id": "zsjgoGTL5Rjv"
      },
      "source": [
        "### Scale the data\n",
        "xtrain = xtrain/255\n",
        "xtest = xtest/255"
      ],
      "execution_count": null,
      "outputs": []
    },
    {
      "cell_type": "code",
      "metadata": {
        "id": "B5EiJEuW5sfI",
        "outputId": "036f078a-a704-43f5-cbbc-aee2c171d95d",
        "colab": {
          "base_uri": "https://localhost:8080/"
        }
      },
      "source": [
        "## Train the model\n",
        "model.fit(xtrain,ytrain,epochs=10)"
      ],
      "execution_count": null,
      "outputs": [
        {
          "output_type": "stream",
          "text": [
            "Epoch 1/10\n",
            "1875/1875 [==============================] - 9s 5ms/step - loss: 0.1927 - accuracy: 0.9424\n",
            "Epoch 2/10\n",
            "1875/1875 [==============================] - 9s 5ms/step - loss: 0.0759 - accuracy: 0.9761\n",
            "Epoch 3/10\n",
            "1875/1875 [==============================] - 10s 5ms/step - loss: 0.0493 - accuracy: 0.9841\n",
            "Epoch 4/10\n",
            "1875/1875 [==============================] - 9s 5ms/step - loss: 0.0358 - accuracy: 0.9885\n",
            "Epoch 5/10\n",
            "1875/1875 [==============================] - 8s 4ms/step - loss: 0.0265 - accuracy: 0.9917\n",
            "Epoch 6/10\n",
            "1875/1875 [==============================] - 9s 5ms/step - loss: 0.0202 - accuracy: 0.9933\n",
            "Epoch 7/10\n",
            "1875/1875 [==============================] - 9s 5ms/step - loss: 0.0176 - accuracy: 0.9945\n",
            "Epoch 8/10\n",
            "1875/1875 [==============================] - 9s 5ms/step - loss: 0.0152 - accuracy: 0.9953\n",
            "Epoch 9/10\n",
            "1875/1875 [==============================] - 9s 5ms/step - loss: 0.0111 - accuracy: 0.9966\n",
            "Epoch 10/10\n",
            "1875/1875 [==============================] - 9s 5ms/step - loss: 0.0119 - accuracy: 0.9961\n"
          ],
          "name": "stdout"
        },
        {
          "output_type": "execute_result",
          "data": {
            "text/plain": [
              "<tensorflow.python.keras.callbacks.History at 0x7f8b822a7ac8>"
            ]
          },
          "metadata": {
            "tags": []
          },
          "execution_count": 10
        }
      ]
    },
    {
      "cell_type": "markdown",
      "metadata": {
        "id": "_wVynoyf8K76"
      },
      "source": [
        ""
      ]
    },
    {
      "cell_type": "code",
      "metadata": {
        "id": "OJ-_IONp64nI"
      },
      "source": [
        "ypred = model.predict(xtest)"
      ],
      "execution_count": null,
      "outputs": []
    },
    {
      "cell_type": "code",
      "metadata": {
        "id": "YDG82krL7wDT",
        "outputId": "c3a7561c-426a-4cae-c029-9ea826b59985",
        "colab": {
          "base_uri": "https://localhost:8080/"
        }
      },
      "source": [
        "ytest[555]"
      ],
      "execution_count": null,
      "outputs": [
        {
          "output_type": "execute_result",
          "data": {
            "text/plain": [
              "4"
            ]
          },
          "metadata": {
            "tags": []
          },
          "execution_count": 12
        }
      ]
    },
    {
      "cell_type": "code",
      "metadata": {
        "id": "XZfH8lj07zYA",
        "outputId": "81c05600-f887-4fbf-fb7b-4bf9072b1510",
        "colab": {
          "base_uri": "https://localhost:8080/"
        }
      },
      "source": [
        "ypred[555]"
      ],
      "execution_count": null,
      "outputs": [
        {
          "output_type": "execute_result",
          "data": {
            "text/plain": [
              "array([2.9202140e-12, 1.2966486e-11, 1.1620568e-09, 1.7589601e-10,\n",
              "       1.0000000e+00, 1.9413203e-15, 1.0833062e-14, 6.1661420e-10,\n",
              "       2.2100522e-12, 2.6733833e-08], dtype=float32)"
            ]
          },
          "metadata": {
            "tags": []
          },
          "execution_count": 13
        }
      ]
    },
    {
      "cell_type": "code",
      "metadata": {
        "id": "lMTiNATt74_v",
        "outputId": "f66159fa-5d71-4e38-e610-4e2c216efd63",
        "colab": {
          "base_uri": "https://localhost:8080/"
        }
      },
      "source": [
        "import numpy as np\n",
        "np.argmax(ypred[555])"
      ],
      "execution_count": null,
      "outputs": [
        {
          "output_type": "execute_result",
          "data": {
            "text/plain": [
              "4"
            ]
          },
          "metadata": {
            "tags": []
          },
          "execution_count": 14
        }
      ]
    },
    {
      "cell_type": "code",
      "metadata": {
        "id": "MLlDvaCU8C_H",
        "outputId": "7d5aa810-57f7-4f96-f4d0-2e4e15d67eca",
        "colab": {
          "base_uri": "https://localhost:8080/"
        }
      },
      "source": [
        "model.evaluate(xtest,ytest)"
      ],
      "execution_count": null,
      "outputs": [
        {
          "output_type": "stream",
          "text": [
            "313/313 [==============================] - 1s 2ms/step - loss: 0.0900 - accuracy: 0.9811\n"
          ],
          "name": "stdout"
        },
        {
          "output_type": "execute_result",
          "data": {
            "text/plain": [
              "[0.08999510854482651, 0.9811000227928162]"
            ]
          },
          "metadata": {
            "tags": []
          },
          "execution_count": 15
        }
      ]
    },
    {
      "cell_type": "code",
      "metadata": {
        "id": "dt72rRcW8TOF",
        "outputId": "5b97065e-1e35-43ae-d7ef-f9410479a502",
        "colab": {
          "base_uri": "https://localhost:8080/"
        }
      },
      "source": [
        "from sklearn.metrics import confusion_matrix\n",
        "cm = confusion_matrix(ytest,np.argmax(ypred,axis=1))\n",
        "cm"
      ],
      "execution_count": null,
      "outputs": [
        {
          "output_type": "execute_result",
          "data": {
            "text/plain": [
              "array([[ 968,    1,    3,    0,    2,    0,    2,    1,    2,    1],\n",
              "       [   0, 1129,    1,    1,    0,    1,    3,    0,    0,    0],\n",
              "       [   1,    1, 1013,    6,    2,    0,    1,    4,    3,    1],\n",
              "       [   2,    0,    4,  990,    0,    2,    0,    5,    5,    2],\n",
              "       [   1,    0,    7,    0,  967,    0,    3,    0,    0,    4],\n",
              "       [   2,    0,    0,    8,    1,  862,   12,    0,    6,    1],\n",
              "       [   1,    2,    1,    1,    2,    1,  949,    0,    1,    0],\n",
              "       [   1,    2,   10,    1,    1,    0,    0, 1005,    2,    6],\n",
              "       [   5,    0,    4,    2,    3,    1,    6,    2,  946,    5],\n",
              "       [   3,    3,    1,    3,    8,    3,    0,    3,    3,  982]])"
            ]
          },
          "metadata": {
            "tags": []
          },
          "execution_count": 16
        }
      ]
    },
    {
      "cell_type": "code",
      "metadata": {
        "id": "WYvbo4tk9BFB",
        "outputId": "bac93830-2f82-41bf-ae9e-dbf17a005b42",
        "colab": {
          "base_uri": "https://localhost:8080/"
        }
      },
      "source": [
        "from sklearn.metrics import accuracy_score\n",
        "acc = accuracy_score(ytest,np.argmax(ypred,axis=1))\n",
        "acc"
      ],
      "execution_count": null,
      "outputs": [
        {
          "output_type": "execute_result",
          "data": {
            "text/plain": [
              "0.9811"
            ]
          },
          "metadata": {
            "tags": []
          },
          "execution_count": 17
        }
      ]
    },
    {
      "cell_type": "code",
      "metadata": {
        "id": "dAi0mTsZM5EG"
      },
      "source": [
        "model.save(\"ann.h5\")"
      ],
      "execution_count": null,
      "outputs": []
    }
  ]
}